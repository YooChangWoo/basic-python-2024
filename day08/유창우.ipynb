{
 "cells": [
  {
   "cell_type": "markdown",
   "metadata": {},
   "source": [
    "## 1번 문제"
   ]
  },
  {
   "cell_type": "code",
   "execution_count": 29,
   "metadata": {},
   "outputs": [],
   "source": [
    "import math"
   ]
  },
  {
   "cell_type": "code",
   "execution_count": 1,
   "metadata": {},
   "outputs": [
    {
     "name": "stdout",
     "output_type": "stream",
     "text": [
      "원의 넓이는: 12.566370614359172\n"
     ]
    }
   ],
   "source": [
    "# # 1번 문제\n",
    "# import math # 수학적 함수 출력 하기전 import 실행\n",
    "\n",
    "# def circlearea(radius):\n",
    "#     # 원의 넓이를 계산하는 함수\n",
    "#     area = math.pi * radius ** 2 # 원의 함수식\n",
    "#     return area # 원의 넓이 리턴 해서 받기\n",
    "\n",
    "# def main():\n",
    "#     # 반지름 값을 입력 받음\n",
    "#     radius = float(input(\"반지름 값을 입력하세요: \")) # 반지름에서 값 했을때, 소수점 생성 가능성 있으므로 = float 함수 사용\n",
    "    \n",
    "#     # 원의 넓이 계산\n",
    "#     area = circlearea(radius)\n",
    "    \n",
    "#     # 결과 출력\n",
    "#     print(\"원의 넓이는:\", area)\n",
    "\n",
    "# # 프로그램 실행\n",
    "# main()\n",
    "\n",
    "import math\n",
    "\n",
    "number = int(input('반지름 입력'))\n",
    "print(f'원의 넓이는 {number * number * math.pi}')"
   ]
  },
  {
   "cell_type": "code",
   "execution_count": 35,
   "metadata": {},
   "outputs": [
    {
     "name": "stdout",
     "output_type": "stream",
     "text": [
      "Requirement already satisfied: pandas in c:\\users\\ckddn\\appdata\\local\\packages\\pythonsoftwarefoundation.python.3.11_qbz5n2kfra8p0\\localcache\\local-packages\\python311\\site-packages (2.2.0)\n",
      "Requirement already satisfied: numpy<2,>=1.23.2 in c:\\users\\ckddn\\appdata\\local\\packages\\pythonsoftwarefoundation.python.3.11_qbz5n2kfra8p0\\localcache\\local-packages\\python311\\site-packages (from pandas) (1.26.3)\n",
      "Requirement already satisfied: python-dateutil>=2.8.2 in c:\\users\\ckddn\\appdata\\local\\packages\\pythonsoftwarefoundation.python.3.11_qbz5n2kfra8p0\\localcache\\local-packages\\python311\\site-packages (from pandas) (2.8.2)\n",
      "Requirement already satisfied: pytz>=2020.1 in c:\\users\\ckddn\\appdata\\local\\packages\\pythonsoftwarefoundation.python.3.11_qbz5n2kfra8p0\\localcache\\local-packages\\python311\\site-packages (from pandas) (2024.1)\n",
      "Requirement already satisfied: tzdata>=2022.7 in c:\\users\\ckddn\\appdata\\local\\packages\\pythonsoftwarefoundation.python.3.11_qbz5n2kfra8p0\\localcache\\local-packages\\python311\\site-packages (from pandas) (2023.4)\n",
      "Requirement already satisfied: six>=1.5 in c:\\users\\ckddn\\appdata\\local\\packages\\pythonsoftwarefoundation.python.3.11_qbz5n2kfra8p0\\localcache\\local-packages\\python311\\site-packages (from python-dateutil>=2.8.2->pandas) (1.16.0)\n",
      "Requirement already satisfied: numpy in c:\\users\\ckddn\\appdata\\local\\packages\\pythonsoftwarefoundation.python.3.11_qbz5n2kfra8p0\\localcache\\local-packages\\python311\\site-packages (1.26.3)\n",
      "Requirement already satisfied: matplotlib in c:\\users\\ckddn\\appdata\\local\\packages\\pythonsoftwarefoundation.python.3.11_qbz5n2kfra8p0\\localcache\\local-packages\\python311\\site-packages (3.8.2)\n",
      "Requirement already satisfied: contourpy>=1.0.1 in c:\\users\\ckddn\\appdata\\local\\packages\\pythonsoftwarefoundation.python.3.11_qbz5n2kfra8p0\\localcache\\local-packages\\python311\\site-packages (from matplotlib) (1.2.0)\n",
      "Requirement already satisfied: cycler>=0.10 in c:\\users\\ckddn\\appdata\\local\\packages\\pythonsoftwarefoundation.python.3.11_qbz5n2kfra8p0\\localcache\\local-packages\\python311\\site-packages (from matplotlib) (0.12.1)\n",
      "Requirement already satisfied: fonttools>=4.22.0 in c:\\users\\ckddn\\appdata\\local\\packages\\pythonsoftwarefoundation.python.3.11_qbz5n2kfra8p0\\localcache\\local-packages\\python311\\site-packages (from matplotlib) (4.47.2)\n",
      "Requirement already satisfied: kiwisolver>=1.3.1 in c:\\users\\ckddn\\appdata\\local\\packages\\pythonsoftwarefoundation.python.3.11_qbz5n2kfra8p0\\localcache\\local-packages\\python311\\site-packages (from matplotlib) (1.4.5)\n",
      "Requirement already satisfied: numpy<2,>=1.21 in c:\\users\\ckddn\\appdata\\local\\packages\\pythonsoftwarefoundation.python.3.11_qbz5n2kfra8p0\\localcache\\local-packages\\python311\\site-packages (from matplotlib) (1.26.3)\n",
      "Requirement already satisfied: packaging>=20.0 in c:\\users\\ckddn\\appdata\\local\\packages\\pythonsoftwarefoundation.python.3.11_qbz5n2kfra8p0\\localcache\\local-packages\\python311\\site-packages (from matplotlib) (23.2)\n",
      "Requirement already satisfied: pillow>=8 in c:\\users\\ckddn\\appdata\\local\\packages\\pythonsoftwarefoundation.python.3.11_qbz5n2kfra8p0\\localcache\\local-packages\\python311\\site-packages (from matplotlib) (10.2.0)\n",
      "Requirement already satisfied: pyparsing>=2.3.1 in c:\\users\\ckddn\\appdata\\local\\packages\\pythonsoftwarefoundation.python.3.11_qbz5n2kfra8p0\\localcache\\local-packages\\python311\\site-packages (from matplotlib) (3.1.1)\n",
      "Requirement already satisfied: python-dateutil>=2.7 in c:\\users\\ckddn\\appdata\\local\\packages\\pythonsoftwarefoundation.python.3.11_qbz5n2kfra8p0\\localcache\\local-packages\\python311\\site-packages (from matplotlib) (2.8.2)\n",
      "Requirement already satisfied: six>=1.5 in c:\\users\\ckddn\\appdata\\local\\packages\\pythonsoftwarefoundation.python.3.11_qbz5n2kfra8p0\\localcache\\local-packages\\python311\\site-packages (from python-dateutil>=2.7->matplotlib) (1.16.0)\n"
     ]
    }
   ],
   "source": [
    "!pip install pandas\n",
    "!pip install numpy\n",
    "!pip install matplotlib"
   ]
  },
  {
   "cell_type": "code",
   "execution_count": 32,
   "metadata": {},
   "outputs": [
    {
     "name": "stdout",
     "output_type": "stream",
     "text": [
      "Collecting pandas\n",
      "  Downloading pandas-2.2.0-cp311-cp311-win_amd64.whl.metadata (19 kB)\n",
      "Requirement already satisfied: numpy<2,>=1.23.2 in c:\\users\\ckddn\\appdata\\local\\packages\\pythonsoftwarefoundation.python.3.11_qbz5n2kfra8p0\\localcache\\local-packages\\python311\\site-packages (from pandas) (1.26.3)\n",
      "Requirement already satisfied: python-dateutil>=2.8.2 in c:\\users\\ckddn\\appdata\\local\\packages\\pythonsoftwarefoundation.python.3.11_qbz5n2kfra8p0\\localcache\\local-packages\\python311\\site-packages (from pandas) (2.8.2)\n",
      "Collecting pytz>=2020.1 (from pandas)\n",
      "  Downloading pytz-2024.1-py2.py3-none-any.whl.metadata (22 kB)\n",
      "Collecting tzdata>=2022.7 (from pandas)\n",
      "  Downloading tzdata-2023.4-py2.py3-none-any.whl.metadata (1.4 kB)\n",
      "Requirement already satisfied: six>=1.5 in c:\\users\\ckddn\\appdata\\local\\packages\\pythonsoftwarefoundation.python.3.11_qbz5n2kfra8p0\\localcache\\local-packages\\python311\\site-packages (from python-dateutil>=2.8.2->pandas) (1.16.0)\n",
      "Downloading pandas-2.2.0-cp311-cp311-win_amd64.whl (11.6 MB)\n",
      "   ---------------------------------------- 0.0/11.6 MB ? eta -:--:--\n",
      "    --------------------------------------- 0.2/11.6 MB 5.1 MB/s eta 0:00:03\n",
      "   - -------------------------------------- 0.5/11.6 MB 5.3 MB/s eta 0:00:03\n",
      "   --- ------------------------------------ 0.9/11.6 MB 6.4 MB/s eta 0:00:02\n",
      "   ---- ----------------------------------- 1.4/11.6 MB 7.2 MB/s eta 0:00:02\n",
      "   ------ --------------------------------- 1.9/11.6 MB 8.0 MB/s eta 0:00:02\n",
      "   -------- ------------------------------- 2.5/11.6 MB 8.9 MB/s eta 0:00:02\n",
      "   ----------- ---------------------------- 3.3/11.6 MB 10.1 MB/s eta 0:00:01\n",
      "   -------------- ------------------------- 4.2/11.6 MB 11.3 MB/s eta 0:00:01\n",
      "   ------------------ --------------------- 5.3/11.6 MB 12.6 MB/s eta 0:00:01\n",
      "   -------------------- ------------------- 6.0/11.6 MB 13.3 MB/s eta 0:00:01\n",
      "   ------------------------ --------------- 7.0/11.6 MB 14.0 MB/s eta 0:00:01\n",
      "   ----------------------------- ---------- 8.5/11.6 MB 15.6 MB/s eta 0:00:01\n",
      "   ---------------------------------- ----- 10.1/11.6 MB 16.5 MB/s eta 0:00:01\n",
      "   ---------------------------------------  11.6/11.6 MB 22.6 MB/s eta 0:00:01\n",
      "   ---------------------------------------- 11.6/11.6 MB 21.8 MB/s eta 0:00:00\n",
      "Downloading pytz-2024.1-py2.py3-none-any.whl (505 kB)\n",
      "   ---------------------------------------- 0.0/505.5 kB ? eta -:--:--\n",
      "   --------------------------------------- 505.5/505.5 kB 31.0 MB/s eta 0:00:00\n",
      "Downloading tzdata-2023.4-py2.py3-none-any.whl (346 kB)\n",
      "   ---------------------------------------- 0.0/346.6 kB ? eta -:--:--\n",
      "   ---------------------------------------- 346.6/346.6 kB ? eta 0:00:00\n",
      "Installing collected packages: pytz, tzdata, pandas\n",
      "Successfully installed pandas-2.2.0 pytz-2024.1 tzdata-2023.4\n"
     ]
    }
   ],
   "source": [
    "!pip install pandas"
   ]
  },
  {
   "cell_type": "markdown",
   "metadata": {},
   "source": []
  },
  {
   "cell_type": "markdown",
   "metadata": {},
   "source": [
    "## 2번 문제"
   ]
  },
  {
   "cell_type": "code",
   "execution_count": 5,
   "metadata": {},
   "outputs": [
    {
     "ename": "TypeError",
     "evalue": "'dict' object is not callable",
     "output_type": "error",
     "traceback": [
      "\u001b[1;31m---------------------------------------------------------------------------\u001b[0m",
      "\u001b[1;31mTypeError\u001b[0m                                 Traceback (most recent call last)",
      "Cell \u001b[1;32mIn[5], line 39\u001b[0m\n\u001b[0;32m     34\u001b[0m kind \u001b[38;5;241m=\u001b[39m {\u001b[38;5;124m\"\u001b[39m\u001b[38;5;124mMercury\u001b[39m\u001b[38;5;124m\"\u001b[39m: \u001b[38;5;124m\"\u001b[39m\u001b[38;5;124m수성\u001b[39m\u001b[38;5;124m\"\u001b[39m, \u001b[38;5;124m\"\u001b[39m\u001b[38;5;124mVenus\u001b[39m\u001b[38;5;124m\"\u001b[39m: \u001b[38;5;124m\"\u001b[39m\u001b[38;5;124m금성\u001b[39m\u001b[38;5;124m\"\u001b[39m, \u001b[38;5;124m\"\u001b[39m\u001b[38;5;124mEarth\u001b[39m\u001b[38;5;124m\"\u001b[39m: \u001b[38;5;124m\"\u001b[39m\u001b[38;5;124m지구\u001b[39m\u001b[38;5;124m\"\u001b[39m, \n\u001b[0;32m     35\u001b[0m         \u001b[38;5;124m\"\u001b[39m\u001b[38;5;124mMars\u001b[39m\u001b[38;5;124m\"\u001b[39m: \u001b[38;5;124m\"\u001b[39m\u001b[38;5;124m화성\u001b[39m\u001b[38;5;124m\"\u001b[39m, \u001b[38;5;124m\"\u001b[39m\u001b[38;5;124mJupiter\u001b[39m\u001b[38;5;124m\"\u001b[39m: \u001b[38;5;124m\"\u001b[39m\u001b[38;5;124m목성\u001b[39m\u001b[38;5;124m\"\u001b[39m, \u001b[38;5;124m\"\u001b[39m\u001b[38;5;124mSaturn\u001b[39m\u001b[38;5;124m\"\u001b[39m: \u001b[38;5;124m\"\u001b[39m\u001b[38;5;124m토성\u001b[39m\u001b[38;5;124m\"\u001b[39m,  \n\u001b[0;32m     36\u001b[0m         \u001b[38;5;124m\"\u001b[39m\u001b[38;5;124mUranus\u001b[39m\u001b[38;5;124m\"\u001b[39m: \u001b[38;5;124m\"\u001b[39m\u001b[38;5;124m천왕성\u001b[39m\u001b[38;5;124m\"\u001b[39m,  \u001b[38;5;124m\"\u001b[39m\u001b[38;5;124mNeptune\u001b[39m\u001b[38;5;124m\"\u001b[39m: \u001b[38;5;124m\"\u001b[39m\u001b[38;5;124m해왕성\u001b[39m\u001b[38;5;124m\"\u001b[39m}\n\u001b[0;32m     38\u001b[0m hname \u001b[38;5;241m=\u001b[39m \u001b[38;5;28minput\u001b[39m(\u001b[38;5;124m'\u001b[39m\u001b[38;5;124m행성이름(한글) 입력 >\u001b[39m\u001b[38;5;124m'\u001b[39m)\n\u001b[1;32m---> 39\u001b[0m \u001b[38;5;28mprint\u001b[39m(\u001b[43mkind\u001b[49m\u001b[43m(\u001b[49m\u001b[43mhname\u001b[49m\u001b[43m)\u001b[49m)\n",
      "\u001b[1;31mTypeError\u001b[0m: 'dict' object is not callable"
     ]
    }
   ],
   "source": [
    "# # 2번 문제\n",
    "# def en_kr_planet(en_name):\n",
    "#     # 영어 이름과 한글 이름을 매핑한 사전\n",
    "#     planet_nm = {\n",
    "#         \"Mercury\": \"수성\",\n",
    "#         \"Venus\": \"금성\",\n",
    "#         \"Earth\": \"지구\",\n",
    "#         \"Mars\": \"화성\",\n",
    "#         \"Jupiter\": \"목성\",\n",
    "#         \"Saturn\": \"토성\",\n",
    "#         \"Uranus\": \"천왕성\",\n",
    "#         \"Neptune\": \"해왕성\"\n",
    "#     }\n",
    "#     # 무조건 밑에 출력할때 앞에 문자 대문자 사용! 다 같이 소문자 or 대문자 사용시 \"입력한 영어 이름에 해당하는 행성이 없습니다.\" 나옴\n",
    "\n",
    "#     # 입력된 영어 이름에 해당하는 한글 이름 반환, 없으면 None 반환 하기\n",
    "#     return planet_nm.get(en_name)\n",
    "\n",
    "# def main():\n",
    "#     # 영어 행성 이름 입력 받음\n",
    "#     en_name = input(\"행성의 영어 이름로 입력: \")\n",
    "    \n",
    "#     # 입력된 영어 이름에 해당하는 한글 행성 이름 출력하기\n",
    "#     kr_name = en_kr_planet(en_name)\n",
    "    \n",
    "#     if kr_name:\n",
    "#         print(\"한글 행성 이름은:\", kr_name)\n",
    "#     else:\n",
    "#         print(\"입력한 영어 이름에 해당하는 행성이 없습니다.\")\n",
    "\n",
    "# # 프로그램 실행\n",
    "# main()\n",
    "\n",
    "kind = {'Mercury': '수성', \"Venus\": \"금성\", \"Earth\": \"지구\", \n",
    "        \"Mars\": \"화성\", \"Jupiter\": \"목성\", \"Saturn\": \"토성\",  \n",
    "        \"Uranus\": \"천왕성\",  \"Neptune\": \"해왕성\"}\n",
    "\n",
    "hname = input('행성이름(한글) 입력 >')\n",
    "print(kind(hname))"
   ]
  },
  {
   "cell_type": "markdown",
   "metadata": {},
   "source": [
    "## 3번 문제"
   ]
  },
  {
   "cell_type": "code",
   "execution_count": 3,
   "metadata": {},
   "outputs": [],
   "source": [
    "# # 3번 문제\n",
    "# def ranguage(sentence):\n",
    "#     words = sentence.split()\n",
    "#     modify_sentence = \"i'm going to leave the door open\"\n",
    "#     word_count = len(words)\n",
    "    \n",
    "#     for i, word in enumerate(words): # enumrate = 기본적인 인덱스 + 원소 이루어진 튜플 만들기 위해서 생성\n",
    "#         # 짝수 번째 단어인 경우에만 대문자로 변경\n",
    "#         if (i + 1) % 2 == 0:\n",
    "#             word = word.upper()\n",
    "#         modify_sentence += word + \" \"\n",
    "    \n",
    "#     return modify_sentence.strip(), word_count\n",
    "\n",
    "# def main():\n",
    "#     # 영어 문자열 입력 받음\n",
    "#     sentence = input(\"영어 문자열을 입력하세요: \")\n",
    "    \n",
    "#     # 단어의 수 계산 및 단어 변경\n",
    "#     modify_sentence, wrd_count = ranguage(sentence)\n",
    "    \n",
    "#     # 결과 출력\n",
    "#     print(\"입력한 영어 문자열의 단어의 수는:\", wrd_count)\n",
    "#     print(\"변경된 문자열은:\", modify_sentence)\n",
    "\n",
    "# # 프로그램 실행\n",
    "# main()\n",
    "\n",
    "ranguage = input('영어문장 입력')\n",
    "ranguages = ranguage.split(' ')\n",
    "print(f'단어 수 : {len(ranguages)}')\n",
    "\n",
    "num = 1\n",
    "for i in ranguages:\n",
    "    if (num % 2 == 0):\n",
    "        print(i.upper(), end=' ')\n",
    "    else:\n",
    "        print(i, end=' ')\n",
    "    num += 1\n"
   ]
  },
  {
   "cell_type": "markdown",
   "metadata": {},
   "source": [
    "## 4번 문제"
   ]
  },
  {
   "cell_type": "code",
   "execution_count": 4,
   "metadata": {},
   "outputs": [],
   "source": [
    "# # 4번 문제\n",
    "# def get_url(eng_name):\n",
    "#     # 웹사이트 주소를 매핑한 사전\n",
    "#     websites = {\n",
    "#         \"google\": \"www.google.com\",\n",
    "#         \"facebook\": \"www.facebook.com\",\n",
    "#         \"twitter\": \"www.twitter.com\",\n",
    "#         \"naver\":\"www.naver.com\",\n",
    "#         \"instagram\":\"www.instagram.com\"\n",
    "#         # 추가적인 웹사이트 주소를 여기에 추가할 수 있습니다.\n",
    "#     }\n",
    "    \n",
    "#     # 입력된 영문 이름에 해당하는 웹사이트 주소 반환\n",
    "#     return websites.get(eng_name)\n",
    "\n",
    "# def main():\n",
    "#     # 영문 이름 입력 받음\n",
    "#     eng_name = input(\"영문 이름을 입력하세요: \")\n",
    "    \n",
    "#     # 입력된 영문 이름에 해당하는 웹사이트 주소 가져오기\n",
    "#     url = get_url(eng_name)\n",
    "    \n",
    "#     if url:\n",
    "#         print(\"웹사이트 주소는:\", url) # 위에 주소 매핑 사전에 저장 되있는 이름(?)을 받게 되면 출력되는 문구\n",
    "#     else:\n",
    "#         print(\"입력한 영문 이름에 해당하는 웹사이트가 없습니다.\") # 위에 주소 매핑 사전에 저장 되있지 않은 이름(?)을 받게 되면 출력되는 문구\n",
    "\n",
    "# # 프로그램 실행\n",
    "# main()\n",
    "\n",
    "def get_url(name):\n",
    "    return f'www.{name}.com'\n",
    "\n",
    "inname = input('웹사이트 이름 입력')\n",
    "url = get_url(inname)\n",
    "print(url)"
   ]
  },
  {
   "cell_type": "markdown",
   "metadata": {},
   "source": [
    "## 5번 문제"
   ]
  },
  {
   "cell_type": "code",
   "execution_count": 5,
   "metadata": {},
   "outputs": [],
   "source": [
    "# # 5번문제\n",
    "\n",
    "# def printmultitable(num): # table 이름 = printmultitable 사용함\n",
    "#     # 입력된 단의 1~9까지의 곱셈 결과 출력 (range 사용)\n",
    "#     for i in range(1, 10): \n",
    "#         print(num * i, end=\" \")\n",
    "#     print()  # 줄 바꿈\n",
    "\n",
    "# def main():\n",
    "#     # 출력부분에서 -> 구구단의 단 번호 입력 받음\n",
    "#     num = int(input(\"구구단의 단 번호를 입력하세요: \")) # 소수점 함수 없음으로 정수값을 받을 수 있는 int 값으로 식 적음\n",
    "    \n",
    "#     # 해당하는 단의 9까지의 곱셈 결과 출력\n",
    "    \n",
    "#     printmultitable(num)\n",
    "\n",
    "# # 프로그램 실행\n",
    "# main()\n",
    "\n",
    "dan_num = int(input('구구단 단번호 입력'))\n",
    "\n",
    "print(dan_num, end=' -- >')\n",
    "for i in range(1, 10):\n",
    "    print(dan_num*i, end=' ')"
   ]
  }
 ],
 "metadata": {
  "kernelspec": {
   "display_name": "Python 3",
   "language": "python",
   "name": "python3"
  },
  "language_info": {
   "codemirror_mode": {
    "name": "ipython",
    "version": 3
   },
   "file_extension": ".py",
   "mimetype": "text/x-python",
   "name": "python",
   "nbconvert_exporter": "python",
   "pygments_lexer": "ipython3",
   "version": "3.11.7"
  }
 },
 "nbformat": 4,
 "nbformat_minor": 2
}
